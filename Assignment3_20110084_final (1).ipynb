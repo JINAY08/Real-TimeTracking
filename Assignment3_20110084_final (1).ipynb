{
  "cells": [
    {
      "cell_type": "code",
      "execution_count": 60,
      "metadata": {
        "id": "CLdqJB5xX_kq"
      },
      "outputs": [],
      "source": [
        "# # Importing the required libraries\n",
        "import cv2\n",
        "import glob\n",
        "import numpy as np\n",
        "from scipy.stats import multivariate_normal as gaussian\n",
        "import os\n",
        "from math import log10, sqrt"
      ]
    },
    {
      "cell_type": "code",
      "execution_count": 2,
      "metadata": {
        "colab": {
          "base_uri": "https://localhost:8080/"
        },
        "id": "_eSiUEGoYpFJ",
        "outputId": "d6313995-ed7a-4c21-f0d3-02c5e32dd520"
      },
      "outputs": [
        {
          "output_type": "stream",
          "name": "stdout",
          "text": [
            "--2022-11-08 05:58:31--  https://github.com/JINAY08/Real-TimeTracking/raw/main/WavingTrees.zip\n",
            "Resolving github.com (github.com)... 20.201.28.151\n",
            "Connecting to github.com (github.com)|20.201.28.151|:443... connected.\n",
            "HTTP request sent, awaiting response... 302 Found\n",
            "Location: https://raw.githubusercontent.com/JINAY08/Real-TimeTracking/main/WavingTrees.zip [following]\n",
            "--2022-11-08 05:58:32--  https://raw.githubusercontent.com/JINAY08/Real-TimeTracking/main/WavingTrees.zip\n",
            "Resolving raw.githubusercontent.com (raw.githubusercontent.com)... 185.199.111.133, 185.199.109.133, 185.199.108.133, ...\n",
            "Connecting to raw.githubusercontent.com (raw.githubusercontent.com)|185.199.111.133|:443... connected.\n",
            "HTTP request sent, awaiting response... 200 OK\n",
            "Length: 14579274 (14M) [application/zip]\n",
            "Saving to: ‘WavingTrees.zip’\n",
            "\n",
            "WavingTrees.zip     100%[===================>]  13.90M  --.-KB/s    in 0.1s    \n",
            "\n",
            "2022-11-08 05:58:32 (118 MB/s) - ‘WavingTrees.zip’ saved [14579274/14579274]\n",
            "\n"
          ]
        }
      ],
      "source": [
        "!wget https://github.com/JINAY08/Real-TimeTracking/raw/main/WavingTrees.zip  # # Imports the dataset in the form of a zip file."
      ]
    },
    {
      "cell_type": "code",
      "execution_count": 3,
      "metadata": {
        "id": "6LhRP42FbbLH"
      },
      "outputs": [],
      "source": [
        "!unzip -q WavingTrees -d \"/content/WavingTrees/\"  # # Unzipping the zip file"
      ]
    },
    {
      "cell_type": "code",
      "execution_count": 4,
      "metadata": {
        "id": "esOYnLgu06zL"
      },
      "outputs": [],
      "source": [
        "os.makedirs('content/WavingTrees/', exist_ok =  True) # # Makes a folder WavingTrees\n",
        "\n",
        "for filepath in sorted(glob.glob(f'WavingTrees/b*')):   # # # Reads all those files that start with a 'b'\n",
        "    # print(filepath)\n",
        "    c = cv2.VideoCapture(filepath) \n",
        "    j = 0\n",
        "    filepathlist = filepath.split('.')\n",
        "    p, q = c.read()\n",
        "    filepathlist.append(str(j))\n",
        "    \n",
        "    # # # The following block converts the images from .pgm format to .jpg format.\n",
        "    while p != False:\n",
        "      filepathlist.pop(-1)\n",
        "      filepathlist.append(str(j))\n",
        "      j+=1\n",
        "      filepath = '.'.join(filepathlist) + '.jpg'\n",
        "      cv2.imwrite('/content' + filepath, q)\n",
        "      p, q = c.read()"
      ]
    },
    {
      "cell_type": "code",
      "execution_count": 5,
      "metadata": {
        "id": "e2g78uoScvc2"
      },
      "outputs": [],
      "source": [
        "# # # Defining the Gaussian Function\n",
        "def gaussiandef(x, mean, s):\n",
        "  mean = np.atleast_2d(mean)\n",
        "  s = np.atleast_2d(s)\n",
        "  N = x.size\n",
        "\n",
        "  temp1 = np.linalg.det(s) ** (-0.5)\n",
        "  temp2 = np.exp(-0.5 * ((x - mean).T) @ np.linalg.inv(s) @ (x - mean))\n",
        "  return (2 * np.pi) ** (-N/2) * temp1 * temp2"
      ]
    },
    {
      "cell_type": "code",
      "execution_count": 6,
      "metadata": {
        "colab": {
          "base_uri": "https://localhost:8080/"
        },
        "id": "veRXuD0Dbqrp",
        "outputId": "824b181f-96be-4a75-935e-d09f51d47d66"
      },
      "outputs": [
        {
          "output_type": "stream",
          "name": "stdout",
          "text": [
            "Total number of images: 287\n"
          ]
        }
      ],
      "source": [
        "# # # Makes a list of paths of all frames\n",
        "images = glob.glob(\"/content/WavingTrees/b*.bmp\")\n",
        "# print(images[0].split(\".\")[0].split(\"b\")[1])\n",
        "images = sorted(images)\n",
        "print(f'Total number of images: {len(images)}')\n",
        "# print(images[200])"
      ]
    },
    {
      "cell_type": "code",
      "execution_count": 7,
      "metadata": {
        "colab": {
          "base_uri": "https://localhost:8080/"
        },
        "id": "JBNhl_x1cv9R",
        "outputId": "3656ede4-ecb6-4783-b82d-24ac78faa7bc"
      },
      "outputs": [
        {
          "output_type": "stream",
          "name": "stdout",
          "text": [
            "Training set length: 200\n",
            "Test set length: 87\n"
          ]
        }
      ],
      "source": [
        "# # # Initial set of images\n",
        "train_set_len = 200\n",
        "train_set = images[:train_set_len]\n",
        "test_set = images[train_set_len:]\n",
        "test_set_len = len(test_set)\n",
        "print(f'Training set length: {train_set_len}')\n",
        "print(f'Test set length: {test_set_len}')"
      ]
    },
    {
      "cell_type": "code",
      "execution_count": 8,
      "metadata": {
        "colab": {
          "base_uri": "https://localhost:8080/"
        },
        "id": "yfQ9s9dMghSv",
        "outputId": "723d670a-3542-4e6d-9896-89458c6f2783"
      },
      "outputs": [
        {
          "output_type": "stream",
          "name": "stdout",
          "text": [
            "Dimensions of an Image: 120 x 160 x 3\n"
          ]
        }
      ],
      "source": [
        "example_img = cv2.imread(train_set[0])\n",
        "height, width, channels = example_img.shape\n",
        "print(f'Dimensions of an Image: {height} x {width} x {channels}') # # # Dimensions of each image"
      ]
    },
    {
      "cell_type": "code",
      "execution_count": 9,
      "metadata": {
        "id": "nxT4ldgPhYPi"
      },
      "outputs": [],
      "source": [
        "alpha = 1.0/train_set_len # # Defining the parameter 'alpha'\n",
        "K = 5 # # Parameter K defined in the paper (number of Gaussians)\n",
        "thres1 = 2.5 # # Threshold to classify a pixel as background or foreground\n",
        "forethres = 0.5 # # Threshold for the Euclidean Distance (to check if it has significant weight in representation of the pixel)"
      ]
    },
    {
      "cell_type": "code",
      "execution_count": 10,
      "metadata": {
        "colab": {
          "base_uri": "https://localhost:8080/"
        },
        "id": "rYGSgGhDh0S4",
        "outputId": "6e21234b-4492-4927-e2c6-5f36bc3874b4"
      },
      "outputs": [
        {
          "output_type": "stream",
          "name": "stdout",
          "text": [
            "Shape of weight array: (120, 160, 5)\n"
          ]
        }
      ],
      "source": [
        "B = np.ones((height, width),dtype=np.int64) # # Matrix for background pixels\n",
        "F = np.ones((height, width),dtype=np.int64)\n",
        "weights = np.ndarray(shape=(height,width, K), dtype=np.int64) # # Weight matrix to represent the weights of each of the Gaussian\n",
        "for h in range(height):\n",
        "  for w in range(width):\n",
        "    weights[h,w,:] = [1,0,0,0,0]  # # # Initial weights\n",
        "\n",
        "print(f'Shape of weight array: {weights.shape}')"
      ]
    },
    {
      "cell_type": "code",
      "execution_count": 11,
      "metadata": {
        "colab": {
          "base_uri": "https://localhost:8080/"
        },
        "id": "FcQV6uDdiXAm",
        "outputId": "0a9eb397-48dd-4c97-d94c-1a2ffcfb58b7"
      },
      "outputs": [
        {
          "output_type": "stream",
          "name": "stdout",
          "text": [
            "Shape of expectation(mean) array: (120, 160, 5, 3)\n"
          ]
        }
      ],
      "source": [
        "# # # Defining the expectation (or the mean) matrix\n",
        "exp = np.ndarray(shape=(height,width,K,channels), dtype = np.float64)\n",
        "for h in range(height):\n",
        "  for w in range(width):\n",
        "    for k in range(K):\n",
        "      exp[h,w,k,:] = np.zeros(3)\n",
        "      exp[h][w][k] = np.array(example_img[h][w]).reshape(1,3)\n",
        "\n",
        "print(f'Shape of expectation(mean) array: {exp.shape}')"
      ]
    },
    {
      "cell_type": "code",
      "execution_count": 12,
      "metadata": {
        "colab": {
          "base_uri": "https://localhost:8080/"
        },
        "id": "8fXEvXcwnQj8",
        "outputId": "906ed514-56e6-468c-b4a9-b189bf1f71a9"
      },
      "outputs": [
        {
          "output_type": "stream",
          "name": "stdout",
          "text": [
            "Shape of standard deviation array: (120, 160, 5, 3, 3)\n"
          ]
        }
      ],
      "source": [
        "# # # Defining the variance matrix\n",
        "sigma = np.ndarray(shape=(height,width,K,channels, channels), dtype = np.float64)\n",
        "for h in range(height):\n",
        "  for w in range(width):\n",
        "    for k in range(K):\n",
        "      sigma[h,w,k,:,:] = 255*np.eye(channels)\n",
        "\n",
        "print(f'Shape of standard deviation array: {sigma.shape}')"
      ]
    },
    {
      "cell_type": "code",
      "execution_count": 13,
      "metadata": {
        "id": "IAuRzZ-x-DDQ"
      },
      "outputs": [],
      "source": [
        "# # # Using the first threshold, checks if the pixel could be classified as background or foreground.\n",
        "def match_check(x, exp, sigma):\n",
        "    m = np.mat(np.reshape(x, (3, 1)))\n",
        "    n = np.mat(exp).T\n",
        "    sigma = np.mat(sigma)\n",
        "    d = np.sqrt((m-n).T*sigma.I*(m-n))\n",
        "    if d < thres1:\n",
        "        return True\n",
        "    else:\n",
        "        return False"
      ]
    },
    {
      "cell_type": "code",
      "execution_count": 14,
      "metadata": {
        "colab": {
          "base_uri": "https://localhost:8080/"
        },
        "id": "OWajWPyvAZOh",
        "outputId": "ebfb1694-e466-4d16-eb64-59e6803bc557"
      },
      "outputs": [
        {
          "output_type": "stream",
          "name": "stderr",
          "text": [
            "/usr/local/lib/python3.7/dist-packages/ipykernel_launcher.py:15: DeprecationWarning: `np.float` is a deprecated alias for the builtin `float`. To silence this warning, use `float` by itself. Doing this will not modify any behavior and is safe. If you specifically wanted the numpy scalar type, use `np.float64` here.\n",
            "Deprecated in NumPy 1.20; for more details and guidance: https://numpy.org/devdocs/release/1.20.0-notes.html#deprecations\n",
            "  from ipykernel import kernelapp as app\n"
          ]
        }
      ],
      "source": [
        "for training_image in train_set:\n",
        "  image = cv2.imread(training_image)\n",
        "  for h in range(height):\n",
        "    for w in range(w):\n",
        "      flag = -1\n",
        "      for k in range(K): # # # To identify which of the Gaussians contribute most significantly to the pixel.\n",
        "        if (match_check(image[h][w], exp[h][w][k], sigma[h][w][k])) is True:\n",
        "          flag = k\n",
        "          break\n",
        "      m = np.array(image[h][w]).reshape(1,3)\n",
        "\n",
        "      if flag != 1: # # # If the flag is not equal to 1, we update the model parameters, as given in the paper.\n",
        "        updated_exp = exp[h][w][flag]\n",
        "        updated_sigma = sigma[h][w][flag]\n",
        "        m = image[h][w].astype(np.float)\n",
        "        p = gaussian.pdf(image[h][w], updated_exp, updated_sigma)\n",
        "        # p = gaussiandef(image[h][w], updated_exp, updated_sigma)\n",
        "        weights[h][w] = (1-alpha)*weights[h][w]\n",
        "        weights[h][w][flag] += alpha\n",
        "        exp[h][w][flag] += (m - updated_exp)*p\n",
        "        sigma[h][w][flag] += p*(np.matmul(m-updated_exp, (m-updated_exp).T) - updated_sigma)\n",
        "\n",
        "      else:\n",
        "        w = [weights[h][w][k] for k in range(K)] # # # Else, we find the weight matrix!\n",
        "        minindex = w.index(min(w))\n",
        "        exp[h][w][minindex] = m\n",
        "        sigma[h][w][minindex] = 255*(np.eye(3))\n",
        "\n",
        "  for h in range(height):\n",
        "        for w in range(width):\n",
        "            r = weights[h][w]*1.0/[np.linalg.norm(np.sqrt(sigma[h][w][k])) for k in range(K)] # # # Used to identify and sort the Gaussians according to their \"significance\" in representing the pixel.\n",
        "            r_index = [k for k in range(K)]\n",
        "            r_index.sort(key=lambda x: -r[x])\n",
        "            weights[h][w] = weights[h][w][r_index]\n",
        "            exp[h][w] =  exp[h][w][r_index]\n",
        "            sigma[h][w] = sigma[h][w][r_index]\n",
        "            cum_sum = 0\n",
        "            for ind, order in enumerate(r_index):\n",
        "                cum_sum += weights[h][w][ind]\n",
        "                if cum_sum > forethres:\n",
        "                    B[h][w] = ind + 1 # # # If the cumulative sum is greater than threshold, classify it as a part of background.\n",
        "                    break\n",
        "                else:\n",
        "                    F[h][w] = ind + 1\n",
        "                    break"
      ]
    },
    {
      "cell_type": "code",
      "execution_count": 15,
      "metadata": {
        "id": "W6DGa8caFROB"
      },
      "outputs": [],
      "source": [
        "# # # This generates the output matrix and sets all bacckground pixels to be black!\n",
        "def infer(img):\n",
        "      result = np.array(img)\n",
        "      for i in range(height):\n",
        "          for j in range(width):\n",
        "              for k in range(B[i][j]):\n",
        "                  if match_check(img[i][j], exp[i][j][k], sigma[i][j][k]):\n",
        "                      result[i][j] = [0, 0, 0]    \n",
        "                      break\n",
        "                  else:\n",
        "                      result[i][j] = [255, 255, 255]    \n",
        "                      break\n",
        "      return result"
      ]
    },
    {
      "cell_type": "code",
      "execution_count": 16,
      "metadata": {
        "id": "0llZXk8Vkhcc"
      },
      "outputs": [],
      "source": [
        "# # # Forming the output file.\n",
        "file_list = glob.glob(r'WavingTrees/b*.bmp')\n",
        "for index, file in enumerate(file_list):\n",
        "        # print('infering:{}'.format(file))\n",
        "        img = cv2.imread(file)\n",
        "        img2 = infer(img)\n",
        "        cv2.imwrite('output/'+'%05d'%index+'.bmp', img2)\n",
        "        index += 1"
      ]
    },
    {
      "cell_type": "code",
      "execution_count": 17,
      "metadata": {
        "id": "cSnmySjxvG68"
      },
      "outputs": [],
      "source": [
        "# # # Makes the original video from frames in the dataset.\n",
        "image_folder = 'WavingTrees/'\n",
        "video_name = 'video.avi'\n",
        "\n",
        "images = [img for img in os.listdir(image_folder) if img.endswith(\".bmp\")]\n",
        "frame = cv2.imread(os.path.join(image_folder, images[0]))\n",
        "# height, width, layers = frame.shape\n",
        "height, width, layers = frame.shape\n",
        "\n",
        "video = cv2.VideoWriter(video_name, 0, 5, (width,height))\n",
        "\n",
        "for image in images:\n",
        "    video.write(cv2.imread(os.path.join(image_folder, image)))\n",
        "\n",
        "cv2.destroyAllWindows()\n",
        "video.release()"
      ]
    },
    {
      "cell_type": "code",
      "execution_count": 18,
      "metadata": {
        "id": "ohfzXEmPyp4v"
      },
      "outputs": [],
      "source": [
        "# # # Makes the output video from user-defined functions.\n",
        "out_image_folder = 'output/'\n",
        "video_name = 'video_out.avi'\n",
        "\n",
        "images_out = [img for img in os.listdir(out_image_folder) if img.endswith(\".bmp\")]\n",
        "frame = cv2.imread(os.path.join(out_image_folder, images_out[0]))\n",
        "height, width, layers = frame.shape\n",
        "\n",
        "video = cv2.VideoWriter(video_name, 0, 5, (width,height))\n",
        "\n",
        "for image in images_out:\n",
        "    video.write(cv2.imread(os.path.join(out_image_folder, image)))\n",
        "\n",
        "cv2.destroyAllWindows()\n",
        "video.release()"
      ]
    },
    {
      "cell_type": "markdown",
      "metadata": {
        "id": "6u1Knkyvn8-Z"
      },
      "source": [
        "Comparison With Inbuilt Function"
      ]
    },
    {
      "cell_type": "code",
      "execution_count": 19,
      "metadata": {
        "id": "8TMprcYD-8RZ"
      },
      "outputs": [],
      "source": [
        "fgbg = cv2.createBackgroundSubtractorMOG2()"
      ]
    },
    {
      "cell_type": "code",
      "execution_count": 20,
      "metadata": {
        "id": "v7kP2h1moI-V"
      },
      "outputs": [],
      "source": [
        "# # # Makes a video from output video generated using the in-built function.\n",
        "video_name = 'video_from_inbuilt.avi'\n",
        "image_folder = 'WavingTrees/'\n",
        "images = [img for img in os.listdir(image_folder) if img.endswith(\".bmp\")]\n",
        "for image in range(len(images)):\n",
        "  frame = cv2.imread(os.path.join(image_folder, images[image]))\n",
        "  height, width, channels = frame.shape\n",
        "  fgmask = fgbg.apply(frame)\n",
        "  cv2.imwrite('output_inbuilt/'+'%05d'%image+'.bmp', fgmask)\n",
        "\n",
        "out_image_folder = 'output_inbuilt/'\n",
        "images_out = [img for img in os.listdir(out_image_folder) if img.endswith(\".bmp\")]\n",
        "frame = cv2.imread(os.path.join(out_image_folder, images_out[0]))\n",
        "height, width, layers = frame.shape\n",
        "\n",
        "video = cv2.VideoWriter(video_name, 0, 5, (width,height))\n",
        "\n",
        "for image in images_out:\n",
        "    video.write(cv2.imread(os.path.join(out_image_folder, image)))\n",
        "\n",
        "cv2.destroyAllWindows()\n",
        "video.release() \n",
        "\n",
        "\n"
      ]
    },
    {
      "cell_type": "markdown",
      "source": [
        "PSNR"
      ],
      "metadata": {
        "id": "yAeD0WvDS944"
      }
    },
    {
      "cell_type": "code",
      "execution_count": 21,
      "metadata": {
        "id": "UXo-vlzax1bs"
      },
      "outputs": [],
      "source": [
        "# # # Taken from Geeks for Geeks\n",
        "def PSNR(original, output):\n",
        "    mse = np.mean((original - output) ** 2)\n",
        "    if(mse == 0):  # MSE is zero means no noise is present in the signal .\n",
        "                  # Therefore PSNR have no importance.\n",
        "        return 100\n",
        "    max_pixel = 255.0\n",
        "    psnr = 20 * log10(max_pixel / sqrt(mse))\n",
        "    return psnr"
      ]
    },
    {
      "cell_type": "code",
      "source": [
        "out_images = glob.glob(\"/content/output/*.bmp\")\n",
        "out_images = sorted(out_images)\n",
        "# print(out_images)\n",
        "inp_images = glob.glob(\"/content/WavingTrees/b*.bmp\")\n",
        "inp_images = sorted(inp_images)\n",
        "# print(inp_images)\n",
        "PSNR_matrix_defined = [] # # # A matrix that stores the PSNR values of each of the frames.\n",
        "def max_psnr(original, output):\n",
        "    original = cv2.imread(original)\n",
        "    output = cv2.imread(output)\n",
        "    value = PSNR(original, output)\n",
        "    return value\n",
        "for i in range(len(inp_images)):\n",
        "  PSNR_matrix_defined.append(max_psnr(inp_images[i], out_images[i]))\n",
        "# PSNR_matrix_defined\n",
        "\n"
      ],
      "metadata": {
        "id": "ZjKahbh-zQfY"
      },
      "execution_count": 43,
      "outputs": []
    },
    {
      "cell_type": "code",
      "source": [
        "out_images = glob.glob(\"/content/output_inbuilt/*.bmp\")\n",
        "out_images = sorted(out_images)\n",
        "# print(out_images)\n",
        "inp_images = glob.glob(\"/content/WavingTrees/b*.bmp\")\n",
        "inp_images = sorted(inp_images)\n",
        "# print(inp_images)\n",
        "PSNR_matrix_inbuilt = [] # # # A matrix that stores the PSNR values of each of the frames.\n",
        "def max_psnr(original, output):\n",
        "    original = cv2.imread(original)\n",
        "    output = cv2.imread(output)\n",
        "    value = PSNR(original, output)\n",
        "    return value\n",
        "for i in range(len(inp_images)):\n",
        "  PSNR_matrix_inbuilt.append(max_psnr(inp_images[i], out_images[i]))\n",
        "# PSNR_matrix_inbuilt"
      ],
      "metadata": {
        "id": "EDOx24MK9pK0"
      },
      "execution_count": 44,
      "outputs": []
    },
    {
      "cell_type": "code",
      "source": [
        "cum_error = 0\n",
        "for i in range(len(PSNR_matrix_defined)):\n",
        "  error = abs(PSNR_matrix_defined[i] - PSNR_matrix_inbuilt[i])/(PSNR_matrix_inbuilt[i])\n",
        "  cum_error += error\n",
        "print(f' Average Error in PSNR values for the frames is equal to {(cum_error/len(PSNR_matrix_defined))*100} %') # # # Difference between the PSNR values of user-defined and in-built functions.\n"
      ],
      "metadata": {
        "colab": {
          "base_uri": "https://localhost:8080/"
        },
        "id": "pnBrZOJNAXxD",
        "outputId": "8793a70d-f56d-4f2a-e9ca-c0f7b13d5503"
      },
      "execution_count": 62,
      "outputs": [
        {
          "output_type": "stream",
          "name": "stdout",
          "text": [
            " Average Error in PSNR values for the frames is equal to 0.026860152027581807 %\n"
          ]
        }
      ]
    },
    {
      "cell_type": "markdown",
      "source": [
        "SSIM"
      ],
      "metadata": {
        "id": "X98Y4nsVTIiq"
      }
    },
    {
      "cell_type": "code",
      "source": [
        "# # Taken from ourcodeworld\n",
        "\n",
        "def ssim(img1, img2):\n",
        "    C1 = (0.01 * 255)**2\n",
        "    C2 = (0.03 * 255)**2\n",
        "\n",
        "    img1 = img1.astype(np.float64)\n",
        "    img2 = img2.astype(np.float64)\n",
        "    kernel = cv2.getGaussianKernel(11, 1.5)\n",
        "    window = np.outer(kernel, kernel.transpose())\n",
        "\n",
        "    mu1 = cv2.filter2D(img1, -1, window)[5:-5, 5:-5]  # valid\n",
        "    mu2 = cv2.filter2D(img2, -1, window)[5:-5, 5:-5]\n",
        "    mu1_sq = mu1**2\n",
        "    mu2_sq = mu2**2\n",
        "    mu1_mu2 = mu1 * mu2\n",
        "    sigma1_sq = cv2.filter2D(img1**2, -1, window)[5:-5, 5:-5] - mu1_sq\n",
        "    sigma2_sq = cv2.filter2D(img2**2, -1, window)[5:-5, 5:-5] - mu2_sq\n",
        "    sigma12 = cv2.filter2D(img1 * img2, -1, window)[5:-5, 5:-5] - mu1_mu2\n",
        "\n",
        "    ssim_map = ((2 * mu1_mu2 + C1) * (2 * sigma12 + C2)) / ((mu1_sq + mu2_sq + C1) *\n",
        "                                                            (sigma1_sq + sigma2_sq + C2))\n",
        "    return ssim_map.mean()\n",
        "\n",
        "\n",
        "def calculate_ssim(img1, img2):\n",
        "    '''calculate SSIM\n",
        "    the same outputs as MATLAB's\n",
        "    img1, img2: [0, 255]\n",
        "    '''\n",
        "    if not img1.shape == img2.shape:\n",
        "        raise ValueError('Input images must have the same dimensions.')\n",
        "    if img1.ndim == 2:\n",
        "        return ssim(img1, img2)\n",
        "    elif img1.ndim == 3:\n",
        "        if img1.shape[2] == 3:\n",
        "            ssims = []\n",
        "            for i in range(3):\n",
        "                ssims.append(ssim(img1, img2))\n",
        "            return np.array(ssims).mean()\n",
        "        elif img1.shape[2] == 1:\n",
        "            return ssim(np.squeeze(img1), np.squeeze(img2))\n",
        "    else:\n",
        "        raise ValueError('Wrong input image dimensions.')"
      ],
      "metadata": {
        "id": "JaBP1jy9G8Rg"
      },
      "execution_count": 52,
      "outputs": []
    },
    {
      "cell_type": "code",
      "source": [
        "# # # Calculates the Structural Similarity between the frames between the user-defined and in-built functions.\n",
        "inp_images = glob.glob(\"/content/WavingTrees/b*.bmp\")\n",
        "inp_images = sorted(inp_images)\n",
        "out_images_def = glob.glob(\"/content/output/*.bmp\")\n",
        "out_images_def = sorted(out_images_def)\n",
        "# print(out_images)\n",
        "out_images_inbuilt = glob.glob(\"/content/output_inbuilt/*.bmp\")\n",
        "out_images_inbuilt = sorted(out_images_inbuilt)\n",
        "# print(inp_images)\n",
        "SSIM_matrix_diff = []\n",
        "SSIM_matrix_score = []\n",
        "\n",
        "def max_ssim(original, output):\n",
        "    original = cv2.imread(original)\n",
        "    output = cv2.imread(output)\n",
        "    diff = calculate_ssim(original, output)\n",
        "    return diff\n",
        "\n",
        "for i in range(len(out_images_def)):\n",
        "  diff = max_ssim(out_images_def[i], out_images_inbuilt[i])\n",
        "  SSIM_matrix_diff.append(diff)\n",
        "  # SSIM_matrix_score.append(score)\n",
        "print(f'Max Structural Similarity Index is equal to {max(SSIM_matrix_diff)}')"
      ],
      "metadata": {
        "colab": {
          "base_uri": "https://localhost:8080/"
        },
        "id": "qrkWlyi5Dcxd",
        "outputId": "4b1b1dfd-1678-4292-ddfa-8278346c1ee1"
      },
      "execution_count": 65,
      "outputs": [
        {
          "output_type": "stream",
          "name": "stdout",
          "text": [
            "Max Structural Similarity Index is equal to 0.4683244064414526\n"
          ]
        }
      ]
    },
    {
      "cell_type": "code",
      "source": [],
      "metadata": {
        "id": "mtBt4Ri8F-yR"
      },
      "execution_count": null,
      "outputs": []
    }
  ],
  "metadata": {
    "colab": {
      "provenance": []
    },
    "kernelspec": {
      "display_name": "Python 3",
      "name": "python3"
    },
    "language_info": {
      "name": "python"
    }
  },
  "nbformat": 4,
  "nbformat_minor": 0
}